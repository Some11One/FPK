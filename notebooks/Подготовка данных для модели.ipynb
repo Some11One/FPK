{
 "cells": [
  {
   "cell_type": "markdown",
   "metadata": {},
   "source": [
    "## Готовим данные для модели стратегического прогноза"
   ]
  },
  {
   "cell_type": "code",
   "execution_count": 1,
   "metadata": {
    "collapsed": false,
    "deletable": true,
    "editable": true
   },
   "outputs": [
    {
     "name": "stdout",
     "output_type": "stream",
     "text": [
      "Populating the interactive namespace from numpy and matplotlib\n"
     ]
    }
   ],
   "source": [
    "%pylab inline\n",
    "%matplotlib inline\n",
    "\n",
    "import pandas as pd\n",
    "import numpy as np\n",
    "import scipy as sp\n",
    "import matplotlib.pyplot as plt\n",
    "import MySQLdb\n",
    "\n",
    "from datetime import timedelta\n",
    "import datetime\n",
    "\n",
    "import glob"
   ]
  },
  {
   "cell_type": "markdown",
   "metadata": {},
   "source": [
    "**Загрузка данных из базы**"
   ]
  },
  {
   "cell_type": "code",
   "execution_count": null,
   "metadata": {
    "collapsed": false
   },
   "outputs": [],
   "source": [
    "# %%time\n",
    "# db_connection = MySQLdb.connect(host=\"194.247.15.117\", \n",
    "#                      port=7806,\n",
    "#                      user=\"bar\",\n",
    "#                      passwd=\"PASSWORD\",\n",
    "#                      db=\"Inventory\")\n",
    "\n",
    "# data = pd.read_sql('SELECT * FROM Inventory.vTotalPassengers_v2', con=db_connection)\n",
    "# db_connection.close()\n",
    "\n",
    "# print(len(data))"
   ]
  },
  {
   "cell_type": "markdown",
   "metadata": {},
   "source": [
    "**Загрузка данных с локального хранилища**"
   ]
  },
  {
   "cell_type": "code",
   "execution_count": null,
   "metadata": {
    "collapsed": false
   },
   "outputs": [],
   "source": [
    "# data.to_csv('data.csv', sep=';')"
   ]
  },
  {
   "cell_type": "code",
   "execution_count": 2,
   "metadata": {
    "collapsed": false
   },
   "outputs": [],
   "source": [
    "data = pd.read_csv('../data/data.csv', sep=';')\n",
    "data.drop('Unnamed: 0', inplace=True, axis = 1)"
   ]
  },
  {
   "cell_type": "markdown",
   "metadata": {},
   "source": [
    "**Смотрим на данные**"
   ]
  },
  {
   "cell_type": "code",
   "execution_count": null,
   "metadata": {
    "collapsed": true
   },
   "outputs": [],
   "source": [
    "bdata = data.copy()"
   ]
  },
  {
   "cell_type": "code",
   "execution_count": null,
   "metadata": {
    "collapsed": false
   },
   "outputs": [],
   "source": [
    "# сортируем по рейсу, дате\n",
    "data.sort_values(by=['FlightID', 'DptDt'], inplace=True)\n",
    "\n",
    "# удалим неполные прогнозы\n",
    "data = data[data['reportDt'] >= data['fltNrDptDt']]"
   ]
  },
  {
   "cell_type": "code",
   "execution_count": null,
   "metadata": {
    "collapsed": false
   },
   "outputs": [],
   "source": [
    "data.info()"
   ]
  },
  {
   "cell_type": "code",
   "execution_count": null,
   "metadata": {
    "collapsed": false,
    "scrolled": true
   },
   "outputs": [],
   "source": [
    "data['resHoldTotal'].hist()"
   ]
  },
  {
   "cell_type": "code",
   "execution_count": null,
   "metadata": {
    "collapsed": false
   },
   "outputs": [],
   "source": [
    "data"
   ]
  },
  {
   "cell_type": "code",
   "execution_count": null,
   "metadata": {
    "collapsed": false,
    "scrolled": true
   },
   "outputs": [],
   "source": [
    "# 3 сигмы для поездов \n",
    "df = data.groupby(['FlightID'], as_index = False)['resHoldTotal'].sum()\n",
    "sigma3 = np.mean(df['resHoldTotal']) + 3 * np.std(df['resHoldTotal'])\n",
    "sigma2m = np.mean(df['resHoldTotal']) - 2 * np.std(df['resHoldTotal'])\n",
    "\n",
    "data[~data.FlightID.isin(df[(df.resHoldTotal > sigma3) | (df.resHoldTotal < sigma3m)].FlightID.values)]"
   ]
  },
  {
   "cell_type": "code",
   "execution_count": null,
   "metadata": {
    "collapsed": false
   },
   "outputs": [],
   "source": [
    "np.mean(df['resHoldTotal']), np.std(df['resHoldTotal'])"
   ]
  },
  {
   "cell_type": "code",
   "execution_count": null,
   "metadata": {
    "collapsed": false
   },
   "outputs": [],
   "source": [
    "np.mean(df['resHoldTotal']) - np.std(df['resHoldTotal']), np.mean(df['resHoldTotal']) + 2 * np.std(df['resHoldTotal'])"
   ]
  },
  {
   "cell_type": "code",
   "execution_count": null,
   "metadata": {
    "collapsed": true
   },
   "outputs": [],
   "source": [
    "data['resHoldTotal'].value_counts()"
   ]
  },
  {
   "cell_type": "code",
   "execution_count": null,
   "metadata": {
    "collapsed": true
   },
   "outputs": [],
   "source": [
    "data.groupby(['FlightID', 'reportDt', 'fltNrDptDt'], as_index = False)['resHoldTotal', 'seatsAvail', 'authLevel'].sum().sort_values(['resHoldTotal', 'FlightID']).head(50)"
   ]
  },
  {
   "cell_type": "code",
   "execution_count": null,
   "metadata": {
    "collapsed": false,
    "scrolled": true
   },
   "outputs": [],
   "source": [
    "data[data.FlightID.isin(df[df['resHoldTotal'] == 0]['FlightID'].unique())].sort_values(['FlightID', 'DptDt'])#.to_csv('flights_with_zero_ResHoldTotal.csv', sep=';')"
   ]
  },
  {
   "cell_type": "markdown",
   "metadata": {},
   "source": [
    "**Предобработка данных**"
   ]
  },
  {
   "cell_type": "code",
   "execution_count": null,
   "metadata": {
    "collapsed": true
   },
   "outputs": [],
   "source": [
    "# номер недели\n",
    "def week_of_month(dt):\n",
    "    first_day = dt.replace(day=1)\n",
    "    dom = dt.day\n",
    "    adjusted_dom = dom + first_day.weekday()\n",
    "    return int(ceil(adjusted_dom/7.0))"
   ]
  },
  {
   "cell_type": "code",
   "execution_count": null,
   "metadata": {
    "collapsed": true
   },
   "outputs": [],
   "source": [
    "segment_dict= {}\n",
    "flightNrSf_dict= {}\n",
    "code_dict= {}\n",
    "segment_dict2= {}\n",
    "\n",
    "def prepareData(data):\n",
    "    # сортируем по рейсу, дате\n",
    "    data.sort_values(by=['FlightID', 'DptDt'], inplace=True)\n",
    "\n",
    "    # удалим неполные прогнозы\n",
    "    data = data[data['reportDt'] >= data['fltNrDptDt']]\n",
    "\n",
    "    # drop stuff\n",
    "    data.drop('reportDt', axis = 1, inplace = True)\n",
    "    data.drop('seatsAvail', axis = 1, inplace = True)\n",
    "    data.drop('authLevel', axis = 1, inplace = True)\n",
    "    data.drop('Carrier', axis = 1, inplace = True)\n",
    "    \n",
    "    # make flight id \n",
    "    data['flightNrSf'] = [str(data.fltNr.values[x]) + data.opsSuffix.values[x] for x in range(0, len(data.fltNr.values))]\n",
    "    data.drop('fltNr', axis = 1, inplace = True)\n",
    "    data.drop('opsSuffix', axis = 1, inplace = True)\n",
    "    \n",
    "    # словари для кодирования позедов, сегментов и классов вагонов\n",
    "    segment_dict = dict(enumerate(set(np.append(data.orig.unique(), data.dest.unique()))))\n",
    "    flightNrSf_dict = dict(enumerate(data.flightNrSf.unique()))\n",
    "    code_dict = dict(enumerate(data.Code.unique()))\n",
    "\n",
    "    # кодируем сегмент\n",
    "    data.orig = data.orig.map(lambda x: list(segment_dict.keys())[list(segment_dict.values()).index(x)])\n",
    "    data.dest = data.dest.map(lambda x: list(segment_dict.keys())[list(segment_dict.values()).index(x)])\n",
    "\n",
    "    # кодируем поезда\n",
    "    data.flightNrSf = data.flightNrSf.map(lambda x: list(flightNrSf_dict.keys())[list(flightNrSf_dict.values()).index(x)])\n",
    "\n",
    "    # кодируем вагоны\n",
    "    data.Code = data.Code.map(lambda x: list(code_dict.keys())[list(code_dict.values()).index(x)])\n",
    "\n",
    "    # make segment\n",
    "    data['segment'] = data.orig.astype('str') + '_' + data.dest.astype('str')\n",
    "    data.drop('orig', axis = 1, inplace = True)\n",
    "    data.drop('dest', axis = 1, inplace = True)\n",
    "\n",
    "    # словарь для повторного кодирования сегментов\n",
    "    segment_sec_dict2 = dict(enumerate(data.segment.unique()))\n",
    "\n",
    "    # повторно кодируем сегмент\n",
    "    data.segment = data.segment.map(lambda x: list(segment_sec_dict.keys())[list(segment_sec_dict.values()).index(x)])\n",
    "\n",
    "    # кодируем дату\n",
    "    data.DptDt = pd.DatetimeIndex(data.DptDt)\n",
    "    data.fltNrDptDt = pd.DatetimeIndex(data.fltNrDptDt)\n",
    "    data.fltNrArrDt = pd.DatetimeIndex(data.fltNrArrDt)\n",
    "\n",
    "    data.sort_values(['FlightID', 'DptDt'], inplace=True)\n",
    "    data.reset_index(inplace=True)\n",
    "    data.drop('index', axis = 1, inplace = True)\n",
    "\n",
    "    data['DayOfWeekDpt'] = pd.DatetimeIndex(data['DptDt']).dayofweek \n",
    "    data['WeekOfMonthDpt'] = [week_of_month(x) for x in pd.DatetimeIndex(data['DptDt'])]\n",
    "    data['MonthDpt'] = pd.DatetimeIndex(data['DptDt']).month \n",
    "    data['QuarterDpt'] = pd.DatetimeIndex(data['DptDt']).quarter \n",
    "    data['YearDpt'] = pd.DatetimeIndex(data['DptDt']).year\n",
    "    data['IsWeekendDpt'] = data['DayOfWeekDpt'].isin([5,6])*1\n",
    "\n",
    "    data['DayOfWeekArr'] = pd.DatetimeIndex(data['fltNrArrDt']).dayofweek \n",
    "    data['WeekOfMonthArr'] = [week_of_month(x) for x in pd.DatetimeIndex(data['DptDt'])]\n",
    "    data['MonthArr'] = pd.DatetimeIndex(data['DptDt']).month \n",
    "    data['QuarterArr'] = pd.DatetimeIndex(data['DptDt']).quarter \n",
    "    data['YearArr'] = pd.DatetimeIndex(data['DptDt']).year\n",
    "    data['IsWeekendArr'] = data['DayOfWeekArr'].isin([5,6])*1\n",
    "\n",
    "    # праздники\n",
    "    data['Holiday'] = 0\n",
    "    data['IsHoliday'] = 0\n",
    "    holidayDays = ('2017-03-08 00:00:00', '2017-02-23 00:00:00', '2017-02-14 00:00:00', '2017-01-07 00:00:00', '2017-06-12 00:00:00', '2017-01-01 00:00:00', '2017-05-09 00:00:00',\n",
    "                   '2016-03-08 00:00:00', '2016-02-23 00:00:00', '2016-02-14 00:00:00', '2016-01-07 00:00:00', '2016-06-12 00:00:00', '2016-01-01 00:00:00', '2016-05-09 00:00:00',\n",
    "                   '2015-03-08 00:00:00', '2015-02-23 00:00:00', '2015-02-14 00:00:00', '2015-01-07 00:00:00', '2015-06-12 00:00:00', '2015-01-01 00:00:00', '2015-05-09 00:00:00',\n",
    "                   '2014-03-08 00:00:00', '2014-02-23 00:00:00', '2014-02-14 00:00:00', '2014-01-07 00:00:00', '2014-06-12 00:00:00', '2014-01-01 00:00:00', '2014-05-09 00:00:00')\n",
    "\n",
    "    for holidayIndex in holidayDays:\n",
    "        daysIncr = np.arange(-3, 3)\n",
    "        holidayCode = np.append(np.arange(1, 4), np.arange(1, 4)[::-1])\n",
    "\n",
    "        for i, dayIncr in enumerate(daysIncr):\n",
    "            holiday = pd.DatetimeIndex([holidayIndex])[0] + datetime.timedelta(days = int(dayIncr))\n",
    "            data.loc[data[data.DptDt == holiday].index.values, 'Holiday'] = holidayCode[i]\n",
    "\n",
    "            if dayIncr == 0:\n",
    "                data.loc[data[data.DptDt == holiday].index.values, 'IsHoliday'] = 1\n",
    "                \n",
    "    return data"
   ]
  },
  {
   "cell_type": "code",
   "execution_count": null,
   "metadata": {
    "collapsed": true
   },
   "outputs": [],
   "source": [
    "data = prepareData(data)"
   ]
  },
  {
   "cell_type": "code",
   "execution_count": null,
   "metadata": {
    "collapsed": true
   },
   "outputs": [],
   "source": [
    "data['Lag'] = pd.DatetimeIndex(data['fltNrDptDt'])."
   ]
  },
  {
   "cell_type": "code",
   "execution_count": null,
   "metadata": {
    "collapsed": true
   },
   "outputs": [],
   "source": [
    "lags = list(1, 2, 4, 8, 16, 52)\n",
    "for lag in lags:\n",
    "    data['Lag_' + str(lag)] = data[data['Дата'] > data['Дата'] - data['Lag'] - datetime.timedelta(days = lag * 7)]['resHoldTotal'].sum()"
   ]
  },
  {
   "cell_type": "code",
   "execution_count": null,
   "metadata": {
    "collapsed": false
   },
   "outputs": [],
   "source": [
    "print(flightNrSf_dict)"
   ]
  },
  {
   "cell_type": "code",
   "execution_count": null,
   "metadata": {
    "collapsed": false
   },
   "outputs": [],
   "source": [
    "print(code_dict)"
   ]
  },
  {
   "cell_type": "code",
   "execution_count": null,
   "metadata": {
    "collapsed": false
   },
   "outputs": [],
   "source": [
    "print(segment_dict)"
   ]
  },
  {
   "cell_type": "code",
   "execution_count": null,
   "metadata": {
    "collapsed": false,
    "scrolled": true
   },
   "outputs": [],
   "source": [
    "print(segment_sec_dict2)"
   ]
  },
  {
   "cell_type": "code",
   "execution_count": null,
   "metadata": {
    "collapsed": true
   },
   "outputs": [],
   "source": [
    "data = pd.to_csv('../data/prepared_data.csv', sep=';')"
   ]
  },
  {
   "cell_type": "markdown",
   "metadata": {
    "collapsed": true
   },
   "source": [
    "**Общий прогзноз + год вперед**"
   ]
  },
  {
   "cell_type": "code",
   "execution_count": null,
   "metadata": {
    "collapsed": false
   },
   "outputs": [],
   "source": [
    "wdata = bdata.copy()"
   ]
  },
  {
   "cell_type": "code",
   "execution_count": null,
   "metadata": {
    "collapsed": false
   },
   "outputs": [],
   "source": [
    "# дополним год\n",
    "df = wdata[wdata['DptDt'] > wdata['DptDt'].max() - datetime.timedelta(days=365)]\n",
    "df['DptDt'] = df['DptDt'].map(lambda x: x + datetime.timedelta(days=365))\n",
    "df['reportDt'] = df['reportDt'].map(lambda x: x + datetime.timedelta(days=365))\n",
    "df['fltNrDptDt'] = df['fltNrDptDt'].map(lambda x: x + datetime.timedelta(days=365))\n",
    "df['fltNrArrDt'] = df['fltNrArrDt'].map(lambda x: x + datetime.timedelta(days=365))"
   ]
  },
  {
   "cell_type": "code",
   "execution_count": null,
   "metadata": {
    "collapsed": true
   },
   "outputs": [],
   "source": [
    "wdata = wdata.append(df)"
   ]
  },
  {
   "cell_type": "code",
   "execution_count": null,
   "metadata": {
    "collapsed": false,
    "scrolled": true
   },
   "outputs": [],
   "source": [
    "wdata = prepareData(wdata)\n",
    "wdata.sort_values('FlightID', 'DptDt')"
   ]
  },
  {
   "cell_type": "code",
   "execution_count": null,
   "metadata": {
    "collapsed": false
   },
   "outputs": [],
   "source": [
    "# save \n",
    "wdata.to_csv('4y_prepared_data.csv', sep=';')"
   ]
  }
 ],
 "metadata": {
  "anaconda-cloud": {},
  "kernelspec": {
   "display_name": "Python [conda root]",
   "language": "python",
   "name": "conda-root-py"
  },
  "language_info": {
   "codemirror_mode": {
    "name": "ipython",
    "version": 3
   },
   "file_extension": ".py",
   "mimetype": "text/x-python",
   "name": "python",
   "nbconvert_exporter": "python",
   "pygments_lexer": "ipython3",
   "version": "3.5.2"
  }
 },
 "nbformat": 4,
 "nbformat_minor": 2
}
